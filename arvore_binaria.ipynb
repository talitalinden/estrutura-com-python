{
  "nbformat": 4,
  "nbformat_minor": 0,
  "metadata": {
    "colab": {
      "provenance": [],
      "authorship_tag": "ABX9TyOoxU0xQf1jzmDKr1t5qseL",
      "include_colab_link": true
    },
    "kernelspec": {
      "name": "python3",
      "display_name": "Python 3"
    },
    "language_info": {
      "name": "python"
    }
  },
  "cells": [
    {
      "cell_type": "markdown",
      "metadata": {
        "id": "view-in-github",
        "colab_type": "text"
      },
      "source": [
        "<a href=\"https://colab.research.google.com/github/talitalinden/estrutura-com-python/blob/main/arvore_binaria.ipynb\" target=\"_parent\"><img src=\"https://colab.research.google.com/assets/colab-badge.svg\" alt=\"Open In Colab\"/></a>"
      ]
    },
    {
      "cell_type": "code",
      "execution_count": 2,
      "metadata": {
        "colab": {
          "base_uri": "https://localhost:8080/"
        },
        "id": "6Kqds8WS-gtO",
        "outputId": "c09a9be1-4e92-4c30-c7c1-1fd9c147920e"
      },
      "outputs": [
        {
          "output_type": "stream",
          "name": "stdout",
          "text": [
            "Pré ordem: 1-2-4-3-5-\n",
            "Em ordem: 1-2-4-3-5-\n",
            "Pós ordem: 1-2-4-3-5-\n"
          ]
        }
      ],
      "source": [
        "# Arvore Binaria para estrutura de dados.\n",
        "# Node é o nó que é o elemento raiz. Cada elemento raiz pode ter 2 filhos.\n",
        "# Um nó sem filhos é chamado de folha.\n",
        "\n",
        "class Node:\n",
        "    def __init__(self, value):\n",
        "        self.value = value\n",
        "        self.left = None\n",
        "        self.right = None\n",
        "\n",
        "class ArvoreBinaria:\n",
        "    def __init__(self, root):\n",
        "        self.root = Node(root)\n",
        "    \n",
        "    def print_arvore(self, traversal_type):\n",
        "        if traversal_type == \"preorder\":\n",
        "            return self.preorder_print(self.root, \"\")\n",
        "        elif traversal_type == \"inorder\":\n",
        "            return self.inorder_print(self.root, \"\")\n",
        "        elif traversal_type == \"postorder\":\n",
        "            return self.postorder_print(self.root, \"\")\n",
        "        else:\n",
        "            print(\"Tipo transversal\" + str(traversal_type) + \"não é definido.\")\n",
        "            return False\n",
        "\n",
        "    def preorder_print(self, start, traversal):\n",
        "        if start:\n",
        "            traversal += (str(start.value) + \"-\")\n",
        "            traversal = self.preorder_print(start.left, traversal)\n",
        "            traversal = self.preorder_print(start.right, traversal)\n",
        "        return traversal\n",
        "    \n",
        "    def inorder_print(self, start, traversal):\n",
        "        if start:\n",
        "            traversal += (str(start.value) + \"-\")\n",
        "            traversal = self.inorder_print(start.left, traversal)\n",
        "            traversal = self.inorder_print(start.right, traversal)\n",
        "        return traversal\n",
        "    \n",
        "    def postorder_print (self, start, traversal):\n",
        "        if start:\n",
        "            traversal += (str(start.value) + \"-\")\n",
        "            traversal = self.postorder_print(start.left, traversal)\n",
        "            traversal = self.postorder_print(start.right, traversal)\n",
        "        return traversal\n",
        "    \n",
        "#Para criar uma arvore binaria simples\n",
        "\n",
        "arvore = ArvoreBinaria(1)\n",
        "arvore.root.left = Node(2)\n",
        "arvore.root.right = Node(3)\n",
        "arvore.root.left.left = Node(4)\n",
        "arvore.root.right.right = Node(5)\n",
        "\n",
        "#Imprimindo a arvore binaria\n",
        "\n",
        "print(\"Pré ordem: \" + arvore.print_arvore(\"preorder\"))\n",
        "print(\"Em ordem: \" + arvore.print_arvore(\"inorder\"))\n",
        "print(\"Pós ordem: \" + arvore.print_arvore(\"postorder\"))"
      ]
    },
    {
      "cell_type": "code",
      "source": [],
      "metadata": {
        "id": "IGTdSX5JFJRb"
      },
      "execution_count": null,
      "outputs": []
    }
  ]
}