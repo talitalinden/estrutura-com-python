{
  "cells": [
    {
      "cell_type": "markdown",
      "metadata": {
        "id": "view-in-github",
        "colab_type": "text"
      },
      "source": [
        "<a href=\"https://colab.research.google.com/github/talitalinden/estrutura-com-python/blob/main/estrutura.ipynb\" target=\"_parent\"><img src=\"https://colab.research.google.com/assets/colab-badge.svg\" alt=\"Open In Colab\"/></a>"
      ]
    },
    {
      "cell_type": "code",
      "execution_count": null,
      "metadata": {
        "colab": {
          "base_uri": "https://localhost:8080/"
        },
        "id": "q7n53uq57HsQ",
        "outputId": "a6f3ea2f-7151-47b1-fe71-0a73cf981dd0"
      },
      "outputs": [
        {
          "name": "stdout",
          "output_type": "stream",
          "text": [
            "Digite a sua idade: 16\n",
            "Você não pode entrar\n"
          ]
        }
      ],
      "source": [
        "idade = int(input(\"Digite a sua idade: \"))\n",
        "\n",
        "if idade < 18:\n",
        "    print(\"Você não pode entrar\")\n",
        "elif idade == 18:\n",
        "    print(\"Você pode entrar\")\n",
        "else:\n",
        "    print(\"Pode entrar\")"
      ]
    },
    {
      "cell_type": "code",
      "execution_count": null,
      "metadata": {
        "colab": {
          "base_uri": "https://localhost:8080/"
        },
        "id": "Amzw6rfU_PFn",
        "outputId": "fcd68a1d-d0d3-4bd5-96ce-ea254906073f"
      },
      "outputs": [
        {
          "name": "stdout",
          "output_type": "stream",
          "text": [
            "Digite a sua primeira nota: 9\n",
            "Digite a sua segunda nota: 8.5\n",
            "Digite a sua terceira nota: 7\n",
            "Você foi aprovado\n"
          ]
        }
      ],
      "source": [
        "#Faça um programa para leitura de três notas parciais de um aluno e\n",
        "#sua disciplina. O programa deve calcular a média alcançada por aluno\n",
        "# e apresentar:\n",
        "\n",
        "#a) A mensagem \"Aprovado\", se a média for menor ou igual a 7, com a\n",
        "#respectiva média alcançada;\n",
        "\n",
        "#b) A mensagem \"Reprovado\", se a média for menor que 7,0 com a respectiva média \n",
        "#alcançada;\n",
        "\n",
        "#c) A mensagem \"Aprovado com distinção\", se a média for igual a 10.\n",
        "\n",
        "\n",
        "nota1 = float(input(\"Digite a sua primeira nota: \"))\n",
        "nota2 = float(input(\"Digite a sua segunda nota: \"))\n",
        "nota3 = float(input(\"Digite a sua terceira nota: \"))\n",
        "\n",
        "media = (nota1 + nota2 + nota3)/3\n",
        "\n",
        "if media >= 7:\n",
        "    print(\"Você foi aprovado\")\n",
        "elif media == 10:\n",
        "    print(\"Você foi aprovado com distinção\")\n",
        "else:\n",
        "    print(\"Você foi reprovado\")"
      ]
    },
    {
      "cell_type": "code",
      "execution_count": null,
      "metadata": {
        "id": "ZmRLesJJDFYs"
      },
      "outputs": [],
      "source": []
    },
    {
      "cell_type": "code",
      "execution_count": null,
      "metadata": {
        "colab": {
          "base_uri": "https://localhost:8080/"
        },
        "id": "NQKH9eLoDF6k",
        "outputId": "a254384b-d3ad-4fba-88a8-5f82fa5ad58c"
      },
      "outputs": [
        {
          "output_type": "stream",
          "name": "stdout",
          "text": [
            "Digite a sua nota de 0 a 10: -2\n",
            "A nota não pode ser menor que 0 ou maior que 10. \n",
            " Tente novamente: 15\n",
            "A nota não pode ser menor que 0 ou maior que 10. \n",
            " Tente novamente: 8\n",
            "Nota válida.\n"
          ]
        }
      ],
      "source": [
        "#Faça um programa que peça uma nota, entre zero e dez. Mostre a mensagem caso \n",
        "# o valor seja inválido e continue pedindo até que o usuário informe um valor\n",
        "#válido.\n",
        "\n",
        "nota = float(input(\"Digite a sua nota de 0 a 10: \"))\n",
        "\n",
        "while (nota < 0) or (nota > 10):\n",
        "    nota = float(input(\"A nota não pode ser menor que 0 ou maior que 10. \\n Tente novamente: \"))\n",
        "\n",
        "print (\"Nota válida.\")"
      ]
    },
    {
      "cell_type": "code",
      "execution_count": null,
      "metadata": {
        "colab": {
          "base_uri": "https://localhost:8080/"
        },
        "id": "GcpLMbJuJxQD",
        "outputId": "d73cf370-e5bc-4b95-d790-57888c676324"
      },
      "outputs": [
        {
          "output_type": "stream",
          "name": "stdout",
          "text": [
            "Qual é o produto? camisas\n",
            "Quantidade de produtos vendidos: 3\n",
            "vendas 2:50\n",
            "soma: 53\n",
            "media: 3\n",
            "vendas 3:25\n",
            "soma: 78\n",
            "media: 3\n"
          ]
        }
      ],
      "source": [
        "#Faça o mesmo critério acima, com vendas.\n",
        "\n",
        "produto = input(\"Qual é o produto? \")\n",
        "vendas = int(input(\"Quantidade de produtos vendidos: \"))\n",
        "\n",
        "count = 1; \n",
        "soma = vendas\n",
        "media = vendas\n",
        "\n",
        "while count < vendas:\n",
        "    count += 1\n",
        "    temp = int(input(f\"vendas {count:d}:\"))\n",
        "    soma += temp\n",
        "    if temp > media:\n",
        "        maior = temp \n",
        "    print(f'soma: {soma}')\n",
        "    print(f'media: {media}')"
      ]
    },
    {
      "cell_type": "code",
      "source": [
        "#Faça um programa que leia um nome de usuário e a sua senha e não \n",
        "#aceite a senha igual ao nome do usuário, mostrando uma mensagem de erro e voltando a pedir as informações. \n",
        "\n",
        "usuario = \"igual\"\n",
        "senha = \"igual\"\n",
        "\n",
        "while (usuario == senha):\n",
        "    usuario = str(input(\"Digite o nome de usuário: \"))\n",
        "    senha = str(input(\"Digite sua senha com letras: \"))\n",
        "    print(\"Usuário e senha não podem ser iguais.\")\n",
        "\n",
        "print(\"Está correto.\")"
      ],
      "metadata": {
        "id": "13P4YPKEGlJL"
      },
      "execution_count": null,
      "outputs": []
    },
    {
      "cell_type": "code",
      "source": [
        "#for e range\n",
        "\n",
        "nome = 'python'\n",
        "for letra in nome:\n",
        "    print(letra)"
      ],
      "metadata": {
        "colab": {
          "base_uri": "https://localhost:8080/"
        },
        "id": "Cvc4mXRh9B1g",
        "outputId": "39c7f5ba-105a-42db-fae9-505164315199"
      },
      "execution_count": 1,
      "outputs": [
        {
          "output_type": "stream",
          "name": "stdout",
          "text": [
            "p\n",
            "y\n",
            "t\n",
            "h\n",
            "o\n",
            "n\n"
          ]
        }
      ]
    },
    {
      "cell_type": "code",
      "source": [
        "#Desenvolva um gerador de tabuada, capaz de gerar a tabuada de qualquer número inteiro entre 1 e 10. O usuário deve infrmar de qual\n",
        "#número ele deseja ver a tabuada.\n",
        "\n",
        "tabuada = int(input(\"Digite o número da tabuada que você precisa: \"))\n",
        "\n",
        "for num in range (1,11):\n",
        "    print (tabuada * num)"
      ],
      "metadata": {
        "colab": {
          "base_uri": "https://localhost:8080/"
        },
        "id": "cdGPuBqP97u7",
        "outputId": "b42a1312-b837-48c4-b86b-6eb1593b390c"
      },
      "execution_count": 14,
      "outputs": [
        {
          "output_type": "stream",
          "name": "stdout",
          "text": [
            "Digite o número da tabuada que você precisa: 2\n",
            "2\n",
            "4\n",
            "6\n",
            "8\n",
            "10\n",
            "12\n",
            "14\n",
            "16\n",
            "18\n",
            "20\n"
          ]
        }
      ]
    },
    {
      "cell_type": "code",
      "source": [
        "#Faça uma função para jogar a moeda\n",
        "\n",
        "from randon import\n",
        "def joga_moeda():\n",
        "    valor = randon()\n",
        "    if valor > 0.5:\n",
        "        return 'cara'\n",
        "    else:\n",
        "        return 'coroa'\n",
        "\n",
        "cara_coroa = joga_moeda()\n",
        "print (cara_coroa)"
      ],
      "metadata": {
        "colab": {
          "base_uri": "https://localhost:8080/",
          "height": 132
        },
        "id": "LrHirxMJFI60",
        "outputId": "9ff063ea-c408-4d4a-811a-bb5a06d66319"
      },
      "execution_count": 20,
      "outputs": [
        {
          "output_type": "error",
          "ename": "SyntaxError",
          "evalue": "ignored",
          "traceback": [
            "\u001b[0;36m  File \u001b[0;32m\"<ipython-input-20-1ae6e32e8150>\"\u001b[0;36m, line \u001b[0;32m3\u001b[0m\n\u001b[0;31m    from randon import\u001b[0m\n\u001b[0m                      ^\u001b[0m\n\u001b[0;31mSyntaxError\u001b[0m\u001b[0;31m:\u001b[0m invalid syntax\n"
          ]
        }
      ]
    },
    {
      "cell_type": "code",
      "source": [
        "# Faça um programa que peça quatro notas, mostre a média e diga se o aluno foi reprovado ou não e se vai para a final.\n",
        "\n",
        "nota1 = float(input(\"Digite a primeira nota: \"))\n",
        "nota2 = float(input(\"Digite a segunda nota: \"))\n",
        "nota3 = float(input(\"Digite a terceira nota: \"))\n",
        "nota4 = float(input(\"Digite a quarta nota: \"))\n",
        "\n",
        "media = (nota1 + nota2 + nota3 + nota4) / 4\n",
        "print (media)\n",
        "\n",
        "if media < 7.0:\n",
        "    print(\"Você vai para a final\")\n",
        "\n",
        "elif media <= 3.0:\n",
        "        print(\"Você foi reprovado.\")\n",
        "else:\n",
        "        print(\"Você foi aprovado.\")"
      ],
      "metadata": {
        "colab": {
          "base_uri": "https://localhost:8080/"
        },
        "id": "Iad04dWCGaFs",
        "outputId": "e2d974cb-a0a2-4cf4-b604-3f02cbcf5efa"
      },
      "execution_count": 29,
      "outputs": [
        {
          "output_type": "stream",
          "name": "stdout",
          "text": [
            "Digite a primeira nota: 9.5\n",
            "Digite a segunda nota: 5\n",
            "Digite a terceira nota: 4\n",
            "Digite a quarta nota: 7\n",
            "6.375\n",
            "Você vai para a final\n"
          ]
        }
      ]
    }
  ],
  "metadata": {
    "colab": {
      "provenance": [],
      "authorship_tag": "ABX9TyOAwhH+nHTBYiafIydmXXu7",
      "include_colab_link": true
    },
    "kernelspec": {
      "display_name": "Python 3",
      "name": "python3"
    },
    "language_info": {
      "name": "python"
    }
  },
  "nbformat": 4,
  "nbformat_minor": 0
}